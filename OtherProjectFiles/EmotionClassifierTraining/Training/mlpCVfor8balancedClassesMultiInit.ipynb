{
 "metadata": {
  "name": ""
 },
 "nbformat": 3,
 "nbformat_minor": 0,
 "worksheets": [
  {
   "cells": [
    {
     "cell_type": "code",
     "collapsed": false,
     "input": [
      "#######################################################################################################\n",
      "# Author: Jan Ondras\n",
      "# Institution: University of Cambridge\n",
      "# Project: Replicating Human Facial Emotions and Head Movements on a Robot Avatar (Part II Project)\n",
      "# Duration: October 2016 - May 2017\n",
      "####################################################################################################### \n",
      "# Cross-validate and tune hyperparameters\n",
      "# This uses crossvalidation on all the data and plots validation curves.\n",
      "# Tune hyperparameters in 2 phases\n",
      "# Use all 8 classes to show some of them are very confused!\n",
      "# Strategy (how examples were created) has to be specified AVG/CONCAT\n",
      "'''\n",
      "1.) plot heatmap of train/validation accuracy(&std) against window W and hidden layer size (hls) => 4 heatmaps\n",
      "    => tune architecture and feature representation\n",
      "2.) for chosen W and hls, crossvalidate regularisation alpha\n",
      "3.) plot confusion matrix sum over 5 cv folds\n",
      "\n",
      "Firstly done with random_state=0\n",
      "Then improved to try 50 different randomSeed [0,49]\n",
      "'''\n",
      "#######################################################################################################\n",
      "import time\n",
      "import numpy as np \n",
      "#from collections import Counter\n",
      "from sklearn.neural_network import MLPClassifier\n",
      "#from sklearn.model_selection import GridSearchCV\n",
      "#from sklearn.metrics import classification_report\n",
      "from sklearn.metrics import confusion_matrix\n",
      "from sklearn.model_selection import validation_curve\n",
      "from sklearn.model_selection import learning_curve\n",
      "from sklearn.model_selection import StratifiedKFold\n",
      "import matplotlib.pyplot as plt\n",
      "\n",
      "\n",
      "# 1.)\n",
      "\n",
      "#strategy = 'concat'\n",
      "strategy = 'avg'\n",
      "windows = range(1, 6 + 1)\n",
      "hls = range(1, 30)\n",
      "K = 5\n",
      "numRandomSeeds = 50\n",
      "# number of folds, Stratified K-fold crossvalidator is used, later use leave one subject out\n",
      "# K = StratifiedKFold(n_splits=5, random_state=0, shuffle=True)\n",
      "# for train_index, test_index in K.split(X, y):\n",
      "#     print(\"TRAIN:\", train_index, \"TEST:\", test_index)\n",
      "#     X_train, X_test = X[train_index], X[test_index]\n",
      "#     y_train, y_test = y[train_index], y[test_index]\n",
      "\n",
      "train_scores_means = np.zeros((numRandomSeeds, len(windows), len(hls)))\n",
      "train_scores_stds = np.zeros((numRandomSeeds, len(windows), len(hls)))\n",
      "test_scores_means = np.zeros((numRandomSeeds, len(windows), len(hls)))\n",
      "test_scores_stds = np.zeros((numRandomSeeds, len(windows), len(hls)))\n",
      "\n",
      "best_train_scores_means = np.zeros((len(windows), len(hls)))\n",
      "best_train_scores_stds = np.zeros((len(windows), len(hls)))\n",
      "best_test_scores_means = np.zeros((len(windows), len(hls)))\n",
      "best_test_scores_stds = np.zeros((len(windows), len(hls)))\n",
      "\n",
      "for randomSeed in range(numRandomSeeds):\n",
      "    start = time.time()\n",
      "    # For every window size\n",
      "    for WINDOW in windows:\n",
      "        \n",
      "        examples = np.genfromtxt('./dataCKplus/examples/ex7AU' + strategy + 'W' + str(WINDOW) + '.dat')\n",
      "        X = examples[:, :-1]\n",
      "        y = examples[:, -1]\n",
      "        \n",
      "        # Crossvalidate!\n",
      "        train_scores, test_scores = validation_curve(\n",
      "            MLPClassifier(solver='lbfgs', random_state=randomSeed), X, y, \n",
      "            param_name=\"hidden_layer_sizes\", param_range=[(x, ) for x in hls],\n",
      "            cv=K, scoring=\"accuracy\", n_jobs=-1)\n",
      "        \n",
      "        # Log data\n",
      "        train_scores_means[randomSeed][WINDOW - 1] = np.mean(train_scores, axis=1)\n",
      "        train_scores_stds[randomSeed][WINDOW - 1] = np.std(train_scores, axis=1)\n",
      "        test_scores_means[randomSeed][WINDOW - 1] = np.mean(test_scores, axis=1)\n",
      "        test_scores_stds[randomSeed][WINDOW - 1] = np.std(test_scores, axis=1)\n",
      "    print \"Time: %d sec\" %(time.time() - start)\n",
      "\n",
      "bestRandomSeeds = np.argmax(test_scores_means, axis=0)\n",
      "print bestRandomSeeds\n",
      "for w in windows:\n",
      "    for h in hls:\n",
      "        best_train_scores_means[w - 1, h - 1] = train_scores_means[bestRandomSeeds[w - 1, h - 1]][w - 1, h - 1]\n",
      "        best_train_scores_stds[w - 1, h - 1] = train_scores_stds[bestRandomSeeds[w - 1, h - 1]][w - 1, h - 1]\n",
      "        best_test_scores_means[w - 1, h - 1] = test_scores_means[bestRandomSeeds[w - 1, h - 1]][w - 1, h - 1]\n",
      "        best_test_scores_stds[w - 1, h - 1] = test_scores_stds[bestRandomSeeds[w - 1, h - 1]][w - 1, h - 1]"
     ],
     "language": "python",
     "metadata": {},
     "outputs": [
      {
       "output_type": "stream",
       "stream": "stdout",
       "text": [
        "Time: 33 sec\n"
       ]
      },
      {
       "output_type": "stream",
       "stream": "stdout",
       "text": [
        "Time: 37 sec\n"
       ]
      },
      {
       "output_type": "stream",
       "stream": "stdout",
       "text": [
        "Time: 34 sec\n"
       ]
      },
      {
       "output_type": "stream",
       "stream": "stdout",
       "text": [
        "Time: 38 sec\n"
       ]
      },
      {
       "output_type": "stream",
       "stream": "stdout",
       "text": [
        "Time: 37 sec\n"
       ]
      },
      {
       "output_type": "stream",
       "stream": "stdout",
       "text": [
        "Time: 38 sec\n"
       ]
      },
      {
       "output_type": "stream",
       "stream": "stdout",
       "text": [
        "Time: 39 sec\n"
       ]
      },
      {
       "output_type": "stream",
       "stream": "stdout",
       "text": [
        "Time: 41 sec\n"
       ]
      },
      {
       "output_type": "stream",
       "stream": "stdout",
       "text": [
        "Time: 38 sec\n"
       ]
      },
      {
       "output_type": "stream",
       "stream": "stdout",
       "text": [
        "Time: 44 sec\n"
       ]
      },
      {
       "output_type": "stream",
       "stream": "stdout",
       "text": [
        "Time: 40 sec\n"
       ]
      },
      {
       "output_type": "stream",
       "stream": "stdout",
       "text": [
        "Time: 48 sec\n"
       ]
      },
      {
       "output_type": "stream",
       "stream": "stdout",
       "text": [
        "Time: 45 sec\n"
       ]
      },
      {
       "output_type": "stream",
       "stream": "stdout",
       "text": [
        "Time: 42 sec\n"
       ]
      },
      {
       "output_type": "stream",
       "stream": "stdout",
       "text": [
        "Time: 42 sec\n"
       ]
      },
      {
       "output_type": "stream",
       "stream": "stdout",
       "text": [
        "Time: 41 sec\n"
       ]
      },
      {
       "output_type": "stream",
       "stream": "stdout",
       "text": [
        "Time: 44 sec\n"
       ]
      },
      {
       "output_type": "stream",
       "stream": "stdout",
       "text": [
        "Time: 44 sec\n"
       ]
      },
      {
       "output_type": "stream",
       "stream": "stdout",
       "text": [
        "Time: 45 sec\n"
       ]
      },
      {
       "output_type": "stream",
       "stream": "stdout",
       "text": [
        "Time: 42 sec\n"
       ]
      },
      {
       "output_type": "stream",
       "stream": "stdout",
       "text": [
        "Time: 44 sec\n"
       ]
      },
      {
       "output_type": "stream",
       "stream": "stdout",
       "text": [
        "Time: 46 sec\n"
       ]
      },
      {
       "output_type": "stream",
       "stream": "stdout",
       "text": [
        "Time: 46 sec\n"
       ]
      },
      {
       "output_type": "stream",
       "stream": "stdout",
       "text": [
        "Time: 47 sec\n"
       ]
      },
      {
       "output_type": "stream",
       "stream": "stdout",
       "text": [
        "Time: 50 sec\n"
       ]
      },
      {
       "output_type": "stream",
       "stream": "stdout",
       "text": [
        "Time: 44 sec\n"
       ]
      },
      {
       "output_type": "stream",
       "stream": "stdout",
       "text": [
        "Time: 44 sec\n"
       ]
      },
      {
       "output_type": "stream",
       "stream": "stdout",
       "text": [
        "Time: 43 sec\n"
       ]
      },
      {
       "output_type": "stream",
       "stream": "stdout",
       "text": [
        "Time: 46 sec\n"
       ]
      },
      {
       "output_type": "stream",
       "stream": "stdout",
       "text": [
        "Time: 45 sec\n"
       ]
      },
      {
       "output_type": "stream",
       "stream": "stdout",
       "text": [
        "Time: 47 sec\n"
       ]
      },
      {
       "output_type": "stream",
       "stream": "stdout",
       "text": [
        "Time: 46 sec\n"
       ]
      },
      {
       "output_type": "stream",
       "stream": "stdout",
       "text": [
        "Time: 48 sec\n"
       ]
      },
      {
       "output_type": "stream",
       "stream": "stdout",
       "text": [
        "Time: 49 sec\n"
       ]
      },
      {
       "output_type": "stream",
       "stream": "stdout",
       "text": [
        "Time: 48 sec\n"
       ]
      },
      {
       "output_type": "stream",
       "stream": "stdout",
       "text": [
        "Time: 47 sec\n"
       ]
      },
      {
       "output_type": "stream",
       "stream": "stdout",
       "text": [
        "Time: 42 sec\n"
       ]
      },
      {
       "output_type": "stream",
       "stream": "stdout",
       "text": [
        "Time: 45 sec\n"
       ]
      },
      {
       "output_type": "stream",
       "stream": "stdout",
       "text": [
        "Time: 46 sec\n"
       ]
      },
      {
       "output_type": "stream",
       "stream": "stdout",
       "text": [
        "Time: 48 sec\n"
       ]
      },
      {
       "output_type": "stream",
       "stream": "stdout",
       "text": [
        "Time: 50 sec\n"
       ]
      },
      {
       "output_type": "stream",
       "stream": "stdout",
       "text": [
        "Time: 46 sec\n"
       ]
      },
      {
       "output_type": "stream",
       "stream": "stdout",
       "text": [
        "Time: 45 sec\n"
       ]
      },
      {
       "output_type": "stream",
       "stream": "stdout",
       "text": [
        "Time: 50 sec\n"
       ]
      },
      {
       "output_type": "stream",
       "stream": "stdout",
       "text": [
        "Time: 47 sec\n"
       ]
      },
      {
       "output_type": "stream",
       "stream": "stdout",
       "text": [
        "Time: 51 sec\n"
       ]
      },
      {
       "output_type": "stream",
       "stream": "stdout",
       "text": [
        "Time: 48 sec\n"
       ]
      },
      {
       "output_type": "stream",
       "stream": "stdout",
       "text": [
        "Time: 48 sec\n"
       ]
      },
      {
       "output_type": "stream",
       "stream": "stdout",
       "text": [
        "Time: 45 sec\n"
       ]
      },
      {
       "output_type": "stream",
       "stream": "stdout",
       "text": [
        "Time: 46 sec\n",
        "[[10  5  1  0 40 29 25  1 46  5 12 37 31 31 21 38 15 20 20 25 16  0  2 43\n",
        "  11  6 31 29 17]\n",
        " [ 2 29 42  4 41 21  1  3 13 45 14 35 33 47 43 30 48 21 11 15 20 12 40  9\n",
        "  28 38  1  2 22]\n",
        " [17 12 12  2 33 18 31 27  1 32 14 23 13 45 13 25 34  9 17 31 38 13 12 11\n",
        "  13  5  9 29  4]\n",
        " [42  6  5 33 19 44 44 40 22 41 36 15 38 23 19 36 25 21 20 34 34 44 42  6\n",
        "  12  7 46 25 12]\n",
        " [10 48  9 38 17 34  5 11 17 27 38 35  9 42  3 14 26 46 30  8 41 24 45 46\n",
        "  18 28 24 14  6]\n",
        " [46 29 43  4 21 47  1  7  9 45 25 11 13 12  9 43 48 46 37 26 24 27 42 46\n",
        "  37 17 24  4 40]]\n"
       ]
      }
     ],
     "prompt_number": 7
    },
    {
     "cell_type": "code",
     "collapsed": false,
     "input": [
      "# Plot 4 heatmaps\n",
      "plt.figure()\n",
      "X, Y = np.meshgrid(hls, windows)\n",
      "levels = np.linspace(0.4, 0.8, num=15)\n",
      "levelsSTD = np.linspace(0., 0.08, num=15)\n",
      "\n",
      "plt.subplot(2, 2, 1)\n",
      "#cp = plt.contourf(X, Y, train_scores_means, 10, vmin=0.0, vmax=1.0)\n",
      "cp = plt.contourf(X, Y, best_train_scores_means, levels=levels)\n",
      "plt.colorbar(cp)\n",
      "plt.title('Training accuracy, strategy = ' + strategy)\n",
      "plt.xlabel('Hidden layer size')\n",
      "plt.ylabel('Window size')\n",
      "\n",
      "plt.subplot(2, 2, 2)\n",
      "cp = plt.contourf(X, Y, best_test_scores_means, levels=levels)\n",
      "plt.colorbar(cp)\n",
      "plt.title('Validation accuracy, strategy = ' + strategy)\n",
      "plt.xlabel('Hidden layer size')\n",
      "plt.ylabel('Window size')\n",
      "\n",
      "plt.subplot(2, 2, 3)\n",
      "cp = plt.contourf(X, Y, best_train_scores_stds, levels=levelsSTD)\n",
      "plt.colorbar(cp)\n",
      "plt.title('Training STD, strategy = ' + strategy)\n",
      "plt.xlabel('Hidden layer size')\n",
      "plt.ylabel('Window size')\n",
      "\n",
      "plt.subplot(2, 2, 4)\n",
      "cp = plt.contourf(X, Y, best_test_scores_stds, levels=levelsSTD)\n",
      "plt.colorbar(cp)\n",
      "plt.title('Validation STD, strategy = ' + strategy)\n",
      "plt.xlabel('Hidden layer size')\n",
      "plt.ylabel('Window size')\n",
      "\n",
      "plt.show()"
     ],
     "language": "python",
     "metadata": {},
     "outputs": [],
     "prompt_number": 8
    },
    {
     "cell_type": "code",
     "collapsed": false,
     "input": [
      "import time\n",
      "import numpy as np \n",
      "#from collections import Counter\n",
      "from sklearn.neural_network import MLPClassifier\n",
      "#from sklearn.model_selection import GridSearchCV\n",
      "#from sklearn.metrics import classification_report\n",
      "from sklearn.metrics import confusion_matrix\n",
      "from sklearn.model_selection import validation_curve\n",
      "from sklearn.model_selection import learning_curve\n",
      "from sklearn.model_selection import StratifiedKFold\n",
      "import matplotlib.pyplot as plt\n",
      "\n",
      "# 2.) part - tune alpha - regularisation\n",
      "# chosen parameters\n",
      "WINDOW = 5 # 5\n",
      "hls = (7,) # 7\n",
      "alphas = np.logspace(-10, 6, 50)\n",
      "chosenRandomSeed = 5 #5\n",
      "# alphas = np.logspace(-5, -1, 20)\n",
      "#strategy = 'concat'\n",
      "strategy = 'avg'\n",
      "K = 5\n",
      "\n",
      "examples = np.genfromtxt('./dataCKplus/examples/ex7AU' + strategy + 'W' + str(WINDOW) + '.dat')\n",
      "X = examples[:, :-1]\n",
      "y = examples[:, -1]\n",
      "\n",
      "start = time.time()\n",
      "train_scores, test_scores = validation_curve(\n",
      "    MLPClassifier(solver='lbfgs', random_state=chosenRandomSeed, hidden_layer_sizes=hls), X, y, \n",
      "    param_name='alpha', param_range=alphas,\n",
      "    cv=K, scoring='accuracy', n_jobs=-1)\n",
      "print \"Time: \"\n",
      "print time.time() - start\n",
      "\n",
      "train_scores_mean = np.mean(train_scores, axis=1)\n",
      "train_scores_std = np.std(train_scores, axis=1)\n",
      "test_scores_mean = np.mean(test_scores, axis=1)\n",
      "test_scores_std = np.std(test_scores, axis=1)\n",
      "\n",
      "plt.figure()\n",
      "plt.title(\"Validation Curve\")\n",
      "plt.xlabel(\"alpha - regularisation\")\n",
      "plt.ylabel(\"Score\")\n",
      "plt.xscale('log')\n",
      "plt.ylim(0.0, 1.1)\n",
      "lw = 2\n",
      "plt.plot(alphas, train_scores_mean, label=\"Training score, strategy = \" + strategy,\n",
      "             color=\"darkorange\", lw=lw)\n",
      "plt.fill_between(alphas, train_scores_mean - train_scores_std,\n",
      "                 train_scores_mean + train_scores_std, alpha=0.2,\n",
      "                 color=\"darkorange\", lw=lw)\n",
      "plt.plot(alphas, test_scores_mean, label=\"Validation score, strategy = \" + strategy,\n",
      "             color=\"navy\", lw=lw)\n",
      "plt.fill_between(alphas, test_scores_mean - test_scores_std,\n",
      "                 test_scores_mean + test_scores_std, alpha=0.2,\n",
      "                 color=\"navy\", lw=lw)\n",
      "plt.legend(loc=\"best\")\n",
      "plt.show()\n"
     ],
     "language": "python",
     "metadata": {},
     "outputs": [
      {
       "output_type": "stream",
       "stream": "stdout",
       "text": [
        "Time: \n",
        "6.28953289986\n"
       ]
      }
     ],
     "prompt_number": 9
    },
    {
     "cell_type": "code",
     "collapsed": false,
     "input": [
      "import time\n",
      "import numpy as np \n",
      "#from collections import Counter\n",
      "from sklearn.neural_network import MLPClassifier\n",
      "#from sklearn.model_selection import GridSearchCV\n",
      "#from sklearn.metrics import classification_report\n",
      "from sklearn.metrics import confusion_matrix\n",
      "from sklearn.model_selection import validation_curve\n",
      "from sklearn.model_selection import learning_curve\n",
      "from sklearn.model_selection import StratifiedKFold\n",
      "from sklearn.metrics import accuracy_score\n",
      "import itertools\n",
      "import matplotlib.pyplot as plt\n",
      "\n",
      "# 3.) plot sum of confusion matrices over all folds\n",
      "WINDOW = 5 # 5\n",
      "hls = (7,) # 7\n",
      "alpha = 1e-4 # alpha chosen: 1e-4\n",
      "chosenRandomSeed = 5 #5 \n",
      "#strategy = 'concat'\n",
      "strategy = 'avg'\n",
      "\n",
      "classes = ['neutral', 'anger', 'contempt', 'disgust', 'fear', 'happiness', 'sadness', 'surprise']\n",
      "K = 5\n",
      "skf = StratifiedKFold(n_splits=K)\n",
      "confusionMatSum = np.zeros((len(classes), len(classes)))\n",
      "normalizeCM = True\n",
      "train_scores = []\n",
      "test_scores = []\n",
      "\n",
      "examples = np.genfromtxt('./dataCKplus/examples/ex7AU' + strategy + 'W' + str(WINDOW) + '.dat')\n",
      "X = examples[:, :-1]\n",
      "y = examples[:, -1]\n",
      "\n",
      "for train_index, test_index in skf.split(X, y):\n",
      "    mlp = MLPClassifier(solver='lbfgs', random_state=chosenRandomSeed, hidden_layer_sizes=hls, alpha=alpha)\n",
      "    mlp.fit(X[train_index], y[train_index])\n",
      "    y_pred = mlp.predict(X[test_index])\n",
      "    cm = confusion_matrix(y[test_index], y_pred)\n",
      "    #print cm\n",
      "    confusionMatSum = confusionMatSum + cm\n",
      "    # Log accuracy scores\n",
      "    train_scores.append(accuracy_score(y[train_index], mlp.predict(X[train_index])))\n",
      "    test_scores.append(accuracy_score(y[test_index], y_pred))\n",
      "\n",
      "# Print results: training & test accuracy + stds\n",
      "train_score_mean = np.mean(train_scores)\n",
      "train_score_std = np.std(train_scores)\n",
      "test_score_mean = np.mean(test_scores)\n",
      "test_score_std = np.std(test_scores)\n",
      "print \"Training score: %f +/- %f\" %(train_score_mean, train_score_std)\n",
      "print \"Validation score: %f +/- %f\" %(test_score_mean, test_score_std)\n",
      "\n",
      "# show cm\n",
      "plt.figure()\n",
      "if normalizeCM:\n",
      "    confusionMatSum = confusionMatSum.astype('float') / confusionMatSum.sum(axis=1)[:, np.newaxis]\n",
      "    print(\"Normalized confusion matrix\")\n",
      "    plt.title('Normalized confusion matrix after cross-validation, strategy = ' + strategy)\n",
      "else:\n",
      "    plt.title('Confusion matrix after cross-validation, strategy = ' + strategy)\n",
      "print confusionMatSum\n",
      "plt.imshow(confusionMatSum, interpolation='nearest', cmap=plt.cm.Blues)\n",
      "plt.colorbar()\n",
      "tick_marks = np.arange(len(classes))\n",
      "plt.xticks(tick_marks, classes, rotation=45)\n",
      "plt.yticks(tick_marks, classes)\n",
      "# if normalizeCM:\n",
      "#     confusionMatSum = confusionMatSum.astype('float') / confusionMatSum.sum(axis=1)[:, np.newaxis]\n",
      "#     print(\"Normalized confusion matrix\")\n",
      "# print confusionMatSum\n",
      "thresh = confusionMatSum.max() / 2.\n",
      "for i, j in itertools.product(range(confusionMatSum.shape[0]), range(confusionMatSum.shape[1])):\n",
      "    if normalizeCM:\n",
      "        plt.text(j, i, '%.3f' % (confusionMatSum[i, j]), horizontalalignment=\"center\", color=\"white\" if confusionMatSum[i, j] > thresh else \"black\")\t# fix text color\n",
      "    else:\n",
      "        plt.text(j, i, int(confusionMatSum[i, j]), horizontalalignment=\"center\", color=\"white\" if confusionMatSum[i, j] > thresh else \"black\")\t# fix text color\n",
      "plt.tight_layout()\n",
      "plt.ylabel('True label')\n",
      "plt.xlabel('Predicted label')\n",
      "plt.show()"
     ],
     "language": "python",
     "metadata": {},
     "outputs": [
      {
       "output_type": "stream",
       "stream": "stdout",
       "text": [
        "Training score: 0.675728 +/- 0.020625\n",
        "Testing score: 0.609258 +/- 0.020413\n",
        "Normalized confusion matrix\n",
        "[[ 0.59036145  0.06024096  0.02409639  0.09638554  0.06024096  0.09638554\n",
        "   0.02409639  0.04819277]\n",
        " [ 0.26666667  0.26666667  0.02222222  0.28888889  0.          0.11111111\n",
        "   0.02222222  0.02222222]\n",
        " [ 0.38888889  0.05555556  0.38888889  0.          0.05555556  0.11111111\n",
        "   0.          0.        ]\n",
        " [ 0.06779661  0.08474576  0.          0.74576271  0.          0.10169492\n",
        "   0.          0.        ]\n",
        " [ 0.2         0.          0.04        0.2         0.12        0.16        0.08\n",
        "   0.2       ]\n",
        " [ 0.07246377  0.04347826  0.01449275  0.05797101  0.          0.8115942\n",
        "   0.          0.        ]\n",
        " [ 0.57142857  0.          0.03571429  0.03571429  0.14285714  0.\n",
        "   0.14285714  0.07142857]\n",
        " [ 0.04819277  0.          0.          0.          0.02409639  0.01204819\n",
        "   0.01204819  0.90361446]]\n"
       ]
      }
     ],
     "prompt_number": 11
    },
    {
     "cell_type": "code",
     "collapsed": false,
     "input": [],
     "language": "python",
     "metadata": {},
     "outputs": []
    }
   ],
   "metadata": {}
  }
 ]
}