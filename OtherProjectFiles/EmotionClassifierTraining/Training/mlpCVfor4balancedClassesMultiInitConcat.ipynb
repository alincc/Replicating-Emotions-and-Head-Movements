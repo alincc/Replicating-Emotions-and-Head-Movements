{
 "metadata": {
  "name": ""
 },
 "nbformat": 3,
 "nbformat_minor": 0,
 "worksheets": [
  {
   "cells": [
    {
     "cell_type": "code",
     "collapsed": false,
     "input": [
      "#######################################################################################################\n",
      "# Author: Jan Ondras\n",
      "# Institution: University of Cambridge\n",
      "# Project: Replicating Human Facial Emotions and Head Movements on a Robot Avatar (Part II Project)\n",
      "# Duration: October 2016 - May 2017\n",
      "####################################################################################################### \n",
      "# Cross-validate and tune hyperparameters\n",
      "# This uses crossvalidation on all the data and plots validation curves.\n",
      "# Tune hyperparameters in 2 phases\n",
      "# Use ONLY 4 classes, well separated \"...ex7AU4...\" are used\n",
      "'''\n",
      "1.) plot heatmap of train/Validation accuracy(&std) against window W and hidden layer size (hls) => 4 heatmaps\n",
      "    => tune architecture and feature representation\n",
      "2.) for chosen W and hls, crossvalidate regularisation alpha\n",
      "3.) plot confusion matrix sum over 5 cv folds\n",
      "\n",
      "Firstly done with random_state=0\n",
      "Then improved to try 50 different randomSeed [0,49]\n",
      "'''\n",
      "#######################################################################################################\n",
      "import time\n",
      "import numpy as np \n",
      "#from collections import Counter\n",
      "from sklearn.neural_network import MLPClassifier\n",
      "#from sklearn.model_selection import GridSearchCV\n",
      "#from sklearn.metrics import classification_report\n",
      "from sklearn.metrics import confusion_matrix\n",
      "from sklearn.model_selection import validation_curve\n",
      "from sklearn.model_selection import learning_curve\n",
      "from sklearn.model_selection import StratifiedKFold\n",
      "import matplotlib.pyplot as plt\n",
      "\n",
      "\n",
      "# 1.)\n",
      "\n",
      "strategy = 'concat'\n",
      "#strategy = 'avg'\n",
      "windows = range(1, 6 + 1)\n",
      "hls = range(1, 30)\n",
      "K = 5\n",
      "numRandomSeeds = 50\n",
      "# number of folds, Stratified K-fold crossvalidator is used, later use leave one subject out\n",
      "# K = StratifiedKFold(n_splits=5, random_state=0, shuffle=True)\n",
      "# for train_index, test_index in K.split(X, y):\n",
      "#     print(\"TRAIN:\", train_index, \"TEST:\", test_index)\n",
      "#     X_train, X_test = X[train_index], X[test_index]\n",
      "#     y_train, y_test = y[train_index], y[test_index]\n",
      "\n",
      "train_scores_means = np.zeros((numRandomSeeds, len(windows), len(hls)))\n",
      "train_scores_stds = np.zeros((numRandomSeeds, len(windows), len(hls)))\n",
      "test_scores_means = np.zeros((numRandomSeeds, len(windows), len(hls)))\n",
      "test_scores_stds = np.zeros((numRandomSeeds, len(windows), len(hls)))\n",
      "\n",
      "best_train_scores_means = np.zeros((len(windows), len(hls)))\n",
      "best_train_scores_stds = np.zeros((len(windows), len(hls)))\n",
      "best_test_scores_means = np.zeros((len(windows), len(hls)))\n",
      "best_test_scores_stds = np.zeros((len(windows), len(hls)))\n",
      "\n",
      "for randomSeed in range(numRandomSeeds):\n",
      "    start = time.time()\n",
      "    # For every window size\n",
      "    for WINDOW in windows:\n",
      "        \n",
      "        examples = np.genfromtxt('./dataCKplus/examples/ex7AU4' + strategy + 'W' + str(WINDOW) + '.dat')\n",
      "        X = examples[:, :-1]\n",
      "        y = examples[:, -1]\n",
      "        \n",
      "        # Crossvalidate!\n",
      "        train_scores, test_scores = validation_curve(\n",
      "            MLPClassifier(solver='lbfgs', random_state=randomSeed), X, y, \n",
      "            param_name=\"hidden_layer_sizes\", param_range=[(x, ) for x in hls],\n",
      "            cv=K, scoring=\"accuracy\", n_jobs=-1)\n",
      "        \n",
      "        # Log data\n",
      "        train_scores_means[randomSeed][WINDOW - 1] = np.mean(train_scores, axis=1)\n",
      "        train_scores_stds[randomSeed][WINDOW - 1] = np.std(train_scores, axis=1)\n",
      "        test_scores_means[randomSeed][WINDOW - 1] = np.mean(test_scores, axis=1)\n",
      "        test_scores_stds[randomSeed][WINDOW - 1] = np.std(test_scores, axis=1)\n",
      "    print \"Time: %d sec\" %(time.time() - start)\n",
      "\n",
      "bestRandomSeeds = np.argmax(test_scores_means, axis=0)\n",
      "print bestRandomSeeds\n",
      "for w in windows:\n",
      "    for h in hls:\n",
      "        best_train_scores_means[w - 1, h - 1] = train_scores_means[bestRandomSeeds[w - 1, h - 1]][w - 1, h - 1]\n",
      "        best_train_scores_stds[w - 1, h - 1] = train_scores_stds[bestRandomSeeds[w - 1, h - 1]][w - 1, h - 1]\n",
      "        best_test_scores_means[w - 1, h - 1] = test_scores_means[bestRandomSeeds[w - 1, h - 1]][w - 1, h - 1]\n",
      "        best_test_scores_stds[w - 1, h - 1] = test_scores_stds[bestRandomSeeds[w - 1, h - 1]][w - 1, h - 1]\n",
      "\n"
     ],
     "language": "python",
     "metadata": {},
     "outputs": [
      {
       "output_type": "stream",
       "stream": "stdout",
       "text": [
        "Time: 35 sec\n"
       ]
      },
      {
       "output_type": "stream",
       "stream": "stdout",
       "text": [
        "Time: 33 sec\n"
       ]
      },
      {
       "output_type": "stream",
       "stream": "stdout",
       "text": [
        "Time: 35 sec\n"
       ]
      },
      {
       "output_type": "stream",
       "stream": "stdout",
       "text": [
        "Time: 33 sec\n"
       ]
      },
      {
       "output_type": "stream",
       "stream": "stdout",
       "text": [
        "Time: 36 sec\n"
       ]
      },
      {
       "output_type": "stream",
       "stream": "stdout",
       "text": [
        "Time: 41 sec\n"
       ]
      },
      {
       "output_type": "stream",
       "stream": "stdout",
       "text": [
        "Time: 42 sec\n"
       ]
      },
      {
       "output_type": "stream",
       "stream": "stdout",
       "text": [
        "Time: 41 sec\n"
       ]
      },
      {
       "output_type": "stream",
       "stream": "stdout",
       "text": [
        "Time: 40 sec\n"
       ]
      },
      {
       "output_type": "stream",
       "stream": "stdout",
       "text": [
        "Time: 40 sec\n"
       ]
      },
      {
       "output_type": "stream",
       "stream": "stdout",
       "text": [
        "Time: 40 sec\n"
       ]
      },
      {
       "output_type": "stream",
       "stream": "stdout",
       "text": [
        "Time: 38 sec\n"
       ]
      },
      {
       "output_type": "stream",
       "stream": "stdout",
       "text": [
        "Time: 42 sec\n"
       ]
      },
      {
       "output_type": "stream",
       "stream": "stdout",
       "text": [
        "Time: 40 sec\n"
       ]
      },
      {
       "output_type": "stream",
       "stream": "stdout",
       "text": [
        "Time: 42 sec\n"
       ]
      },
      {
       "output_type": "stream",
       "stream": "stdout",
       "text": [
        "Time: 41 sec\n"
       ]
      },
      {
       "output_type": "stream",
       "stream": "stdout",
       "text": [
        "Time: 42 sec\n"
       ]
      },
      {
       "output_type": "stream",
       "stream": "stdout",
       "text": [
        "Time: 41 sec\n"
       ]
      },
      {
       "output_type": "stream",
       "stream": "stdout",
       "text": [
        "Time: 41 sec\n"
       ]
      },
      {
       "output_type": "stream",
       "stream": "stdout",
       "text": [
        "Time: 43 sec\n"
       ]
      },
      {
       "output_type": "stream",
       "stream": "stdout",
       "text": [
        "Time: 40 sec\n"
       ]
      },
      {
       "output_type": "stream",
       "stream": "stdout",
       "text": [
        "Time: 39 sec\n"
       ]
      },
      {
       "output_type": "stream",
       "stream": "stdout",
       "text": [
        "Time: 42 sec\n"
       ]
      },
      {
       "output_type": "stream",
       "stream": "stdout",
       "text": [
        "Time: 42 sec\n"
       ]
      },
      {
       "output_type": "stream",
       "stream": "stdout",
       "text": [
        "Time: 40 sec\n"
       ]
      },
      {
       "output_type": "stream",
       "stream": "stdout",
       "text": [
        "Time: 41 sec\n"
       ]
      },
      {
       "output_type": "stream",
       "stream": "stdout",
       "text": [
        "Time: 42 sec\n"
       ]
      },
      {
       "output_type": "stream",
       "stream": "stdout",
       "text": [
        "Time: 46 sec\n"
       ]
      },
      {
       "output_type": "stream",
       "stream": "stdout",
       "text": [
        "Time: 45 sec\n"
       ]
      },
      {
       "output_type": "stream",
       "stream": "stdout",
       "text": [
        "Time: 44 sec\n"
       ]
      },
      {
       "output_type": "stream",
       "stream": "stdout",
       "text": [
        "Time: 44 sec\n"
       ]
      },
      {
       "output_type": "stream",
       "stream": "stdout",
       "text": [
        "Time: 45 sec\n"
       ]
      },
      {
       "output_type": "stream",
       "stream": "stdout",
       "text": [
        "Time: 43 sec\n"
       ]
      },
      {
       "output_type": "stream",
       "stream": "stdout",
       "text": [
        "Time: 43 sec\n"
       ]
      },
      {
       "output_type": "stream",
       "stream": "stdout",
       "text": [
        "Time: 42 sec\n"
       ]
      },
      {
       "output_type": "stream",
       "stream": "stdout",
       "text": [
        "Time: 41 sec\n"
       ]
      },
      {
       "output_type": "stream",
       "stream": "stdout",
       "text": [
        "Time: 42 sec\n"
       ]
      },
      {
       "output_type": "stream",
       "stream": "stdout",
       "text": [
        "Time: 43 sec\n"
       ]
      },
      {
       "output_type": "stream",
       "stream": "stdout",
       "text": [
        "Time: 39 sec\n"
       ]
      },
      {
       "output_type": "stream",
       "stream": "stdout",
       "text": [
        "Time: 43 sec\n"
       ]
      },
      {
       "output_type": "stream",
       "stream": "stdout",
       "text": [
        "Time: 44 sec\n"
       ]
      },
      {
       "output_type": "stream",
       "stream": "stdout",
       "text": [
        "Time: 42 sec\n"
       ]
      },
      {
       "output_type": "stream",
       "stream": "stdout",
       "text": [
        "Time: 45 sec\n"
       ]
      },
      {
       "output_type": "stream",
       "stream": "stdout",
       "text": [
        "Time: 45 sec\n"
       ]
      },
      {
       "output_type": "stream",
       "stream": "stdout",
       "text": [
        "Time: 46 sec\n"
       ]
      },
      {
       "output_type": "stream",
       "stream": "stdout",
       "text": [
        "Time: 42 sec\n"
       ]
      },
      {
       "output_type": "stream",
       "stream": "stdout",
       "text": [
        "Time: 44 sec\n"
       ]
      },
      {
       "output_type": "stream",
       "stream": "stdout",
       "text": [
        "Time: 48 sec\n"
       ]
      },
      {
       "output_type": "stream",
       "stream": "stdout",
       "text": [
        "Time: 43 sec\n"
       ]
      },
      {
       "output_type": "stream",
       "stream": "stdout",
       "text": [
        "Time: 42 sec\n",
        "[[11  6 44 35 40 34 42 39 19 14 20 14  0  9 20  3  3 49 47 31 34  3 11 11\n",
        "   6 31 36 37 13]\n",
        " [13 40 41 21 43 37 24  2 31 10 39  0 22 26 45  8  0 15 43 47 21  9  8 44\n",
        "  15 18 12 10  4]\n",
        " [ 3  3 30 28 48 24 19 19 46 23 45  6 43 17 30 11 13  6 46 33 11 45 49 32\n",
        "  37 30  0 27 28]\n",
        " [34 15 39  2  2 13 14  3 13 12 46 36 13  7  0 11 10  3 34 44 13 49 20 24\n",
        "   8 18 23  9 40]\n",
        " [44 15 12 29 16 16 46 42 33  3  5 15 20 48 37 40  3 31  6 37  2 49 15 12\n",
        "   6 49 35 45  6]\n",
        " [49 29  5 41 34 38 40 17 35  2 32 29 48 13 22  6 33 18 44 35 11 13 21 17\n",
        "  41  7  4 25 35]]\n"
       ]
      }
     ],
     "prompt_number": 1
    },
    {
     "cell_type": "code",
     "collapsed": false,
     "input": [
      "# to save the results\n",
      "# print best_train_scores_means\n",
      "# print best_train_scores_stds\n",
      "# print best_test_scores_means\n",
      "# print best_test_scores_stds\n",
      "\n",
      "# Just for me to see\n",
      "fig = plt.figure()\n",
      "lw = 1\n",
      "colors = ['b', 'g', 'r', 'c', 'm', 'y']\n",
      "for WINDOW in windows: # [2]\n",
      "    #plt.errorbar(hls, best_train_scores_means[WINDOW - 1], yerr=best_train_scores_stds[WINDOW - 1], fmt='-o', color=colors[WINDOW - 1], label='Window ' + str(WINDOW))\n",
      "    plt.plot(hls, best_train_scores_means[WINDOW - 1], '-o', color=colors[WINDOW - 1], label='Window ' + str(WINDOW))\n",
      "#     plt.fill_between(hls, best_train_scores_means[WINDOW - 1] - best_train_scores_stds[WINDOW - 1],\n",
      "#                  best_train_scores_means[WINDOW - 1] + best_train_scores_stds[WINDOW - 1], \n",
      "#                  alpha=0.05, color=colors[WINDOW - 1], lw=lw)\n",
      "    \n",
      "    #plt.errorbar(hls, best_test_scores_means[WINDOW - 1], yerr=best_test_scores_stds[WINDOW - 1], color=colors[WINDOW - 1])\n",
      "    plt.plot(hls, best_test_scores_means[WINDOW - 1], color=colors[WINDOW - 1]) # label='Window ' + str(WINDOW)\n",
      "#     plt.fill_between(hls, best_test_scores_means[WINDOW - 1] - best_test_scores_stds[WINDOW - 1],\n",
      "#                 best_test_scores_means[WINDOW - 1] + best_test_scores_stds[WINDOW - 1], \n",
      "#                 alpha=0.05, color=colors[WINDOW - 1], lw=lw)\n",
      "    \n",
      "plt.ylim([0.75, 0.96])\n",
      "plt.title('Training & validation accuracy, strategy = ' + strategy)\n",
      "plt.xlabel('Hidden layer size')\n",
      "plt.ylabel('Accuracy')\n",
      "plt.legend(loc='best')\n",
      "\n",
      "ax = fig.add_subplot(1,1,1)                                                                                           \n",
      "ax.set_xticks(hls, minor=True)                                                       \n",
      "ax.set_xticks(np.arange(0, 30, 5) , minor=False)                                                                                   \n",
      "ax.grid(which='minor', alpha=0.3, ls='dotted')  \n",
      "plt.show()\n",
      "\n",
      "# Check max validation score\n",
      "W_opt = np.argmax(best_test_scores_means) // len(hls) # = optimal W-1\n",
      "hls_opt = np.argmax(best_test_scores_means) % len(hls)# = optimal hls-1\n",
      "print W_opt\n",
      "print hls_opt\n",
      "print bestRandomSeeds[W_opt, hls_opt] # = optimal random seed"
     ],
     "language": "python",
     "metadata": {},
     "outputs": [
      {
       "output_type": "stream",
       "stream": "stdout",
       "text": [
        "1\n",
        "2\n",
        "41\n"
       ]
      }
     ],
     "prompt_number": 37
    },
    {
     "cell_type": "code",
     "collapsed": false,
     "input": [
      "# Plot 4 heatmaps\n",
      "plt.figure()\n",
      "X, Y = np.meshgrid(hls, windows)\n",
      "levels = np.linspace(0.72, 0.96, num=30)\n",
      "levelsSTD = np.linspace(0.003, 0.085, num=30)\n",
      "\n",
      "plt.subplot(2, 2, 1)\n",
      "#cp = plt.contourf(X, Y, train_scores_means, 10, vmin=0.0, vmax=1.0)\n",
      "cp = plt.contourf(X, Y, best_train_scores_means, levels=levels)\n",
      "plt.colorbar(cp)\n",
      "plt.title('Training accuracy, strategy = ' + strategy)\n",
      "plt.xlabel('Hidden layer size')\n",
      "plt.ylabel('Window size')\n",
      "\n",
      "plt.subplot(2, 2, 2)\n",
      "cp = plt.contourf(X, Y, best_test_scores_means, levels=levels)\n",
      "plt.colorbar(cp)\n",
      "plt.title('Validation accuracy, strategy = ' + strategy)\n",
      "plt.xlabel('Hidden layer size')\n",
      "plt.ylabel('Window size')\n",
      "\n",
      "plt.subplot(2, 2, 3)\n",
      "cp = plt.contourf(X, Y, best_train_scores_stds, levels=levelsSTD)\n",
      "plt.colorbar(cp)\n",
      "plt.title('Training STD, strategy = ' + strategy)\n",
      "plt.xlabel('Hidden layer size')\n",
      "plt.ylabel('Window size')\n",
      "\n",
      "plt.subplot(2, 2, 4)\n",
      "cp = plt.contourf(X, Y, best_test_scores_stds, levels=levelsSTD)\n",
      "plt.colorbar(cp)\n",
      "plt.title('Validation STD, strategy = ' + strategy)\n",
      "plt.xlabel('Hidden layer size')\n",
      "plt.ylabel('Window size')\n",
      "\n",
      "plt.show()"
     ],
     "language": "python",
     "metadata": {},
     "outputs": [],
     "prompt_number": 47
    },
    {
     "cell_type": "code",
     "collapsed": false,
     "input": [
      "import time\n",
      "import numpy as np \n",
      "#from collections import Counter\n",
      "from sklearn.neural_network import MLPClassifier\n",
      "#from sklearn.model_selection import GridSearchCV\n",
      "#from sklearn.metrics import classification_report\n",
      "from sklearn.metrics import confusion_matrix\n",
      "from sklearn.model_selection import validation_curve\n",
      "from sklearn.model_selection import learning_curve\n",
      "from sklearn.model_selection import StratifiedKFold\n",
      "import matplotlib.pyplot as plt\n",
      "\n",
      "# 2.) part - tune alpha - regularisation\n",
      "# chosen parameters\n",
      "WINDOW = 2\n",
      "hls = (3,)\n",
      "chosenRandomSeed = 41 #\n",
      "alphas = np.logspace(-6, 2, 1000)\n",
      "strategy = 'concat'\n",
      "#strategy = 'avg'\n",
      "K = 5\n",
      "\n",
      "examples = np.genfromtxt('./dataCKplus/examples/ex7AU4' + strategy + 'W' + str(WINDOW) + '.dat')\n",
      "X = examples[:, :-1]\n",
      "y = examples[:, -1]\n",
      "\n",
      "start = time.time()\n",
      "train_scores, test_scores = validation_curve(\n",
      "    MLPClassifier(solver='lbfgs', random_state=chosenRandomSeed, hidden_layer_sizes=hls), X, y, \n",
      "    param_name='alpha', param_range=alphas,\n",
      "    cv=K, scoring='accuracy', n_jobs=-1)\n",
      "print \"Time: \"\n",
      "print time.time() - start\n",
      "\n",
      "train_scores_mean = np.mean(train_scores, axis=1)\n",
      "train_scores_std = np.std(train_scores, axis=1)\n",
      "test_scores_mean = np.mean(test_scores, axis=1)\n",
      "test_scores_std = np.std(test_scores, axis=1)\n",
      "\n",
      "plt.figure()\n",
      "plt.title(\"Validation Curve, strategy = \" + strategy)\n",
      "plt.xlabel(\"alpha - regularisation\")\n",
      "plt.ylabel(\"Score\")\n",
      "plt.xscale('log')\n",
      "lw = 2\n",
      "plt.plot(alphas, train_scores_mean, label=\"Training score\",\n",
      "             color=\"darkorange\", lw=lw)\n",
      "plt.fill_between(alphas, train_scores_mean - train_scores_std,\n",
      "                 train_scores_mean + train_scores_std, alpha=0.2,\n",
      "                 color=\"darkorange\", lw=lw)\n",
      "plt.plot(alphas, test_scores_mean, label=\"Testing score\",\n",
      "             color=\"navy\", lw=lw)\n",
      "plt.fill_between(alphas, test_scores_mean - test_scores_std,\n",
      "                 test_scores_mean + test_scores_std, alpha=0.2,\n",
      "                 color=\"navy\", lw=lw)\n",
      "plt.legend(loc=\"best\")\n",
      "plt.ylim([0.55, 0.92])\n",
      "plt.grid()\n",
      "plt.show()\n",
      "\n",
      "print alphas[np.argmax(test_scores_mean)] # optimal alpha = 0.0637976680861"
     ],
     "language": "python",
     "metadata": {},
     "outputs": [
      {
       "output_type": "stream",
       "stream": "stdout",
       "text": [
        "Time: \n",
        "77.9546790123\n",
        "0.0637976680861"
       ]
      },
      {
       "output_type": "stream",
       "stream": "stdout",
       "text": [
        "\n"
       ]
      }
     ],
     "prompt_number": 51
    },
    {
     "cell_type": "code",
     "collapsed": false,
     "input": [
      "import time\n",
      "import numpy as np \n",
      "#from collections import Counter\n",
      "from sklearn.neural_network import MLPClassifier\n",
      "#from sklearn.model_selection import GridSearchCV\n",
      "#from sklearn.metrics import classification_report\n",
      "from sklearn.metrics import confusion_matrix\n",
      "from sklearn.model_selection import validation_curve\n",
      "from sklearn.model_selection import learning_curve\n",
      "from sklearn.model_selection import StratifiedKFold\n",
      "from sklearn.metrics import accuracy_score\n",
      "import itertools\n",
      "import matplotlib.pyplot as plt\n",
      "\n",
      "# 3.) plot sum of confusion matrices over all folds\n",
      "WINDOW = 2\n",
      "hls = (3,)\n",
      "alpha = 6e-2 # alpha chosen\n",
      "chosenRandomSeed = 41 #\n",
      "strategy = 'concat'\n",
      "#strategy = 'avg'\n",
      "\n",
      "classes = ['neutral', 'disgust', 'happiness', 'surprise']\n",
      "K = 5\n",
      "skf = StratifiedKFold(n_splits=K)\n",
      "confusionMatSum = np.zeros((len(classes), len(classes)))\n",
      "normalizeCM = True\n",
      "train_scores = []\n",
      "test_scores = []\n",
      "\n",
      "examples = np.genfromtxt('./dataCKplus/examples/ex7AU4' + strategy + 'W' + str(WINDOW) + '.dat')\n",
      "X = examples[:, :-1]\n",
      "y = examples[:, -1]\n",
      "\n",
      "for train_index, test_index in skf.split(X, y):\n",
      "    mlp = MLPClassifier(solver='lbfgs', random_state=chosenRandomSeed, hidden_layer_sizes=hls, alpha=alpha)\n",
      "    mlp.fit(X[train_index], y[train_index])\n",
      "    y_pred = mlp.predict(X[test_index])\n",
      "    cm = confusion_matrix(y[test_index], y_pred)\n",
      "    #print cm\n",
      "    confusionMatSum = confusionMatSum + cm\n",
      "    # Log accuracy scores\n",
      "    train_scores.append(accuracy_score(y[train_index], mlp.predict(X[train_index])))\n",
      "    test_scores.append(accuracy_score(y[test_index], y_pred))\n",
      "\n",
      "# Print results: training & test accuracy + stds\n",
      "train_score_mean = np.mean(train_scores)\n",
      "train_score_std = np.std(train_scores)\n",
      "test_score_mean = np.mean(test_scores)\n",
      "test_score_std = np.std(test_scores)\n",
      "print \"Training score: %f +/- %f\" %(train_score_mean, train_score_std)\n",
      "print \"Validation score: %f +/- %f\" %(test_score_mean, test_score_std)\n",
      "\n",
      "# show cm\n",
      "plt.figure()\n",
      "if normalizeCM:\n",
      "    confusionMatSum = confusionMatSum.astype('float') / confusionMatSum.sum(axis=1)[:, np.newaxis]\n",
      "    print(\"Normalized confusion matrix\")\n",
      "    plt.title('Normalized confusion matrix after cross-validation, strategy = ' + strategy)\n",
      "else:\n",
      "    plt.title('Confusion matrix after cross-validation, strategy = ' + strategy)\n",
      "print confusionMatSum\n",
      "plt.imshow(confusionMatSum, interpolation='nearest', cmap=plt.cm.Blues)\n",
      "plt.colorbar()\n",
      "tick_marks = np.arange(len(classes))\n",
      "plt.xticks(tick_marks, classes, rotation=45)\n",
      "plt.yticks(tick_marks, classes)\n",
      "# if normalizeCM:\n",
      "#     confusionMatSum = confusionMatSum.astype('float') / confusionMatSum.sum(axis=1)[:, np.newaxis]\n",
      "#     print(\"Normalized confusion matrix\")\n",
      "# print confusionMatSum\n",
      "thresh = confusionMatSum.max() / 2.\n",
      "for i, j in itertools.product(range(confusionMatSum.shape[0]), range(confusionMatSum.shape[1])):\n",
      "    if normalizeCM:\n",
      "        plt.text(j, i, '%.3f' % (confusionMatSum[i, j]), horizontalalignment=\"center\", color=\"white\" if confusionMatSum[i, j] > thresh else \"black\")\t# fix text color\n",
      "    else:\n",
      "        plt.text(j, i, int(confusionMatSum[i, j]), horizontalalignment=\"center\", color=\"white\" if confusionMatSum[i, j] > thresh else \"black\")\t# fix text color\n",
      "plt.tight_layout()\n",
      "plt.ylabel('True label')\n",
      "plt.xlabel('Predicted label')\n",
      "plt.show()"
     ],
     "language": "python",
     "metadata": {},
     "outputs": [
      {
       "output_type": "stream",
       "stream": "stdout",
       "text": [
        "Training score: 0.852965 +/- 0.014079\n",
        "Testing score: 0.800271 +/- 0.068890\n",
        "Normalized confusion matrix\n",
        "[[ 0.68674699  0.10843373  0.12048193  0.08433735]\n",
        " [ 0.10169492  0.84745763  0.05084746  0.        ]\n",
        " [ 0.13043478  0.11594203  0.73913043  0.01449275]\n",
        " [ 0.06024096  0.          0.01204819  0.92771084]]"
       ]
      },
      {
       "output_type": "stream",
       "stream": "stdout",
       "text": [
        "\n"
       ]
      }
     ],
     "prompt_number": 53
    },
    {
     "cell_type": "code",
     "collapsed": false,
     "input": [],
     "language": "python",
     "metadata": {},
     "outputs": []
    }
   ],
   "metadata": {}
  }
 ]
}