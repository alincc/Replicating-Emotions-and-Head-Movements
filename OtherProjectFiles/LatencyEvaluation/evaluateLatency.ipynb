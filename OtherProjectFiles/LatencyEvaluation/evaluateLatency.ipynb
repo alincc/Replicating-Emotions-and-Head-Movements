{
 "metadata": {
  "name": ""
 },
 "nbformat": 3,
 "nbformat_minor": 0,
 "worksheets": [
  {
   "cells": [
    {
     "cell_type": "code",
     "collapsed": false,
     "input": [
      "#######################################################################################################\n",
      "# Author: Jan Ondras\n",
      "# Institution: University of Cambridge\n",
      "# Project: Replicating Human Facial Emotions and Head Movements on a Robot Avatar (Part II Project)\n",
      "# Duration: October 2016 - May 2017\n",
      "####################################################################################################### \n",
      "# Evaluate Real-time system latency\n",
      "# from frame capture to commands sent\n",
      "# for both replication on real and virtual robot\n",
      "# Need to specify paths to 4 input files (start/stop times) created by AUD, HPD, EC, HPF modules \n",
      "#######################################################################################################\n",
      "\n",
      "\n",
      "import numpy as np\n",
      "import matplotlib.pyplot as plt\n",
      "\n",
      "# Robot mode\n",
      "#platform = 'Virtual'\n",
      "platform = 'Real'\n",
      "\n",
      "# In units ms\n",
      "auStartTimes = np.genfromtxt('./auStartTimes' + platform + '.dat', usecols = (0))\n",
      "auStopTimes = np.genfromtxt('./auStopTimes' + platform + '.dat', usecols = (0))\n",
      "hpStartTimes = np.genfromtxt('./hpStartTimes' + platform + '.dat', usecols = (0))\n",
      "hpStopTimes = np.genfromtxt('./hpStopTimes' + platform + '.dat', usecols = (0))\n",
      "\n",
      "auLatencies = auStopTimes - auStartTimes\n",
      "hpLatencies = hpStopTimes - hpStartTimes\n",
      "\n",
      "plt.figure()\n",
      "plt.plot((auStartTimes - auStartTimes[0])/1000, auLatencies, label='emotion replication')\n",
      "plt.plot((hpStartTimes - hpStartTimes[0])/1000, hpLatencies, label='head pose replication')\n",
      "plt.ylabel('Latency (ms)')\n",
      "plt.xlabel('Replication time (s)')\n",
      "plt.title('Emotion and head pose replication latencies')\n",
      "plt.legend()\n",
      "plt.xlim(0,  min((auStartTimes - auStartTimes[0])[-1]/1000, (hpStartTimes - hpStartTimes[0])[-1]/1000))\n",
      "plt.show()\n",
      "\n",
      "print np.mean(auLatencies)\n",
      "print np.std(auLatencies)\n",
      "\n",
      "\n",
      "print np.mean(hpLatencies)\n",
      "print np.std(hpLatencies)"
     ],
     "language": "python",
     "metadata": {},
     "outputs": [
      {
       "output_type": "stream",
       "stream": "stdout",
       "text": [
        "48.7478441843\n",
        "7.26656077006\n",
        "19.9480840066\n",
        "3.10925031218\n"
       ]
      }
     ],
     "prompt_number": 8
    },
    {
     "cell_type": "code",
     "collapsed": false,
     "input": [],
     "language": "python",
     "metadata": {},
     "outputs": [],
     "prompt_number": 1
    },
    {
     "cell_type": "code",
     "collapsed": false,
     "input": [],
     "language": "python",
     "metadata": {},
     "outputs": []
    }
   ],
   "metadata": {}
  }
 ]
}